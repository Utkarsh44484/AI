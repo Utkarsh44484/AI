{
 "cells": [
  {
   "cell_type": "code",
   "execution_count": null,
   "id": "a38ffe98",
   "metadata": {},
   "outputs": [],
   "source": [
    " \n"
   ]
  },
  {
   "cell_type": "code",
   "execution_count": null,
   "id": "4b630951",
   "metadata": {},
   "outputs": [],
   "source": [
    " \n",
    " "
   ]
  },
  {
   "cell_type": "code",
   "execution_count": 4,
   "id": "989b3cde",
   "metadata": {},
   "outputs": [
    {
     "name": "stdout",
     "output_type": "stream",
     "text": [
      "To Fill jar A with water press 1 else press 2 : 1\n",
      "Current Status : \n",
      "Jar A :  4\n",
      "Jar B :  0\n",
      "We can't get our result from this input, so we will empty Jar A\n",
      "To Fill jar A with water press 1 else press 2 : 2\n",
      "Current Status : \n",
      "Jar A :  0\n",
      "Jar B :  3\n",
      "Pouring water in Jar A \n",
      "To Fill jar A with water press 1 else press 2 : 1\n",
      "Current Status : \n",
      "Jar A :  4\n",
      "Jar B :  0\n",
      "We can't get our result from this input, so we will empty Jar A\n",
      "To Fill jar A with water press 1 else press 2 : 2\n",
      "Current Status : \n",
      "Jar A :  0\n",
      "Jar B :  3\n",
      "Pouring water in Jar A \n",
      "To Fill jar A with water press 1 else press 2 : 2\n",
      "Current Status : \n",
      "Jar A :  3\n",
      "Jar B :  3\n",
      "Final Status : \n",
      "Jar A :  2\n",
      "Jar B :  0\n"
     ]
    }
   ],
   "source": [
    "import os\n",
    "f=[]\n",
    "t=[]\n",
    "n=0\n",
    "m=0\n",
    " \n",
    "while(1):\n",
    "    os.system('cls')\n",
    "    #Water=int(input(\"Enter amount[In gallon] of water :\"))\n",
    "    q=int(input(\"To Fill jar A with water press 1 else press 2 : \"))\n",
    "    if(q==1) :\n",
    "        n=4\n",
    "        \n",
    "    else :\n",
    "        m=3\n",
    "    print(\"Current Status : \")\n",
    "    print(\"Jar A : \",n)\n",
    "    print(\"Jar B : \",m)\n",
    "    if(n==4 and m!=2):\n",
    "        n=0\n",
    "        print(\"We can't get our result from this input, so we will empty Jar A\")\n",
    "    if(n==0 and m==3):\n",
    "        m=0\n",
    "        n=3\n",
    "        print(\"Pouring water in Jar A \")\n",
    "    if n==3 and m==3:\n",
    "        n=4\n",
    "        m=2\n",
    "        break\n",
    "# Now in jar B we have 2 gallons of water \n",
    "n=0\n",
    "n=m\n",
    "m=0\n",
    "print(\"Final Status : \")\n",
    "print(\"Jar A : \",n)\n",
    "print(\"Jar B : \",m)"
   ]
  },
  {
   "cell_type": "code",
   "execution_count": null,
   "id": "9d450528",
   "metadata": {},
   "outputs": [
    {
     "name": "stdout",
     "output_type": "stream",
     "text": [
      "Enter size of jar A : 10\n",
      "Enter size of jar B [< size of Jar A] : 6\n"
     ]
    }
   ],
   "source": [
    "n=0\n",
    "m=0\n",
    "q1=0\n",
    "sn= int(input(\"Enter size of jar A : \"))\n",
    "sm= int(input(\"Enter size of jar B [< size of Jar A] : \"))\n",
    "while(1):\n",
    "    if (sn-sm)!=2 and (sm-(sn%sm))!=2 and sm!=2 and sn!=2:\n",
    "        q=-1\n",
    "        print(\"We can't get 2 from given size of jar \")\n",
    "        break\n",
    "        \n",
    "    #water=int(input(\"Enter amount[In gallon] of water :\"))\n",
    "    \n",
    "    q=int(input(\"To fill jar A with water press 1 else press 2 : \"))\n",
    "    if(q==1) :\n",
    "        n=sn\n",
    "         \n",
    "    else :\n",
    "        m=sm\n",
    "\n",
    "        \n",
    "    print(\"Current Status : \")\n",
    "    print(\"Jar A : \",n)\n",
    "    print(\"Jar B : \",m)\n",
    "    if(n==sn and m!=2):\n",
    "        n=0\n",
    "        print(\"We can't get our result from this input, so we will empty Jar A\")\n",
    "        print(\"Current Status : \")\n",
    "        print(\"Jar A : \",n)\n",
    "        print(\"Jar B : \",m)\n",
    "    if(n==0 and m==sm):\n",
    "        m=0\n",
    "        n=sm\n",
    "        print(\"Pouring water in Jar A \") \n",
    "        print(\"Current Status : \")\n",
    "        print(\"Jar A : \",n)\n",
    "        print(\"Jar B : \",m)\n",
    "    if n==sm and m==sm:\n",
    "        n=sn\n",
    "        m=sm-(sn-sm)\n",
    "        \n",
    "        break    \n",
    "        \n",
    "    if n==2 or m==2 :\n",
    "        break\n",
    "    \n",
    "    \n",
    "    \n",
    "# Now in jar B we have 2 gallons of water \n",
    "n=0\n",
    "n=m\n",
    "m=0\n",
    "if q1==0:\n",
    "    print(\"Final Status : \")\n",
    "    print(\"Jar A : \",n)\n",
    "    print(\"Jar B : \",m)"
   ]
  },
  {
   "cell_type": "code",
   "execution_count": null,
   "id": "396d8b9c",
   "metadata": {},
   "outputs": [],
   "source": []
  }
 ],
 "metadata": {
  "kernelspec": {
   "display_name": "Python 3 (ipykernel)",
   "language": "python",
   "name": "python3"
  },
  "language_info": {
   "codemirror_mode": {
    "name": "ipython",
    "version": 3
   },
   "file_extension": ".py",
   "mimetype": "text/x-python",
   "name": "python",
   "nbconvert_exporter": "python",
   "pygments_lexer": "ipython3",
   "version": "3.9.13"
  }
 },
 "nbformat": 4,
 "nbformat_minor": 5
}
