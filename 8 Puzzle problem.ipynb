{
 "cells": [
  {
   "cell_type": "markdown",
   "id": "22a8c264",
   "metadata": {},
   "source": [
    "#### 8 Puzzle Problem \n",
    "###### Utkarsh Sathawane\n",
    "###### A-68"
   ]
  },
  {
   "cell_type": "code",
   "execution_count": 1,
   "id": "0d44e3d4",
   "metadata": {},
   "outputs": [],
   "source": [
    "inarr=[]\n",
    "finalstate=[]\n",
    "seen=[]"
   ]
  },
  {
   "cell_type": "code",
   "execution_count": 2,
   "id": "87a7c60d",
   "metadata": {},
   "outputs": [],
   "source": [
    "def takeinput():\n",
    "    global inarr,finalstate\n",
    "    arr=[]\n",
    "    fs=[]\n",
    "    print(\"Enter Start state : \")\n",
    "    for i in range(1,4):\n",
    "        print(\"Enter Row\",i)\n",
    "        a,b,c=input().split()\n",
    "        curr=[]\n",
    "        curr.append(a)\n",
    "        curr.append(b)\n",
    "        curr.append(c)\n",
    "        arr.append(curr)\n",
    "    print(\"Enter Final state : \")\n",
    "    for i in range(1,4):\n",
    "        print(\"Enter Row\",i)\n",
    "        a,b,c= input().split()\n",
    "        curr=[]\n",
    "        curr.append(a)\n",
    "        curr.append(b)\n",
    "        curr.append(c)\n",
    "        fs.append(curr)\n",
    "   # printit(arr)\n",
    "   # printit(fs)    \n",
    "    inarr=arr\n",
    "    finalstate=fs"
   ]
  },
  {
   "cell_type": "code",
   "execution_count": 3,
   "id": "211f4e16",
   "metadata": {},
   "outputs": [],
   "source": [
    "def findhx(x):\n",
    "    res=0\n",
    "    for i in range(3):\n",
    "            fsrow=finalstate[i]\n",
    "            currrow=x[i]\n",
    "            #print(currrow)\n",
    "            for j in range(3):\n",
    "                if(currrow[j] != fsrow[j]):\n",
    "                    res+=1        \n",
    "    return res       "
   ]
  },
  {
   "cell_type": "code",
   "execution_count": 4,
   "id": "7521276e",
   "metadata": {},
   "outputs": [],
   "source": [
    "def findindex(x):\n",
    "    for i in range(3):\n",
    "        for j in range(3):\n",
    "            if x[i][j]=='b':\n",
    "                return i,j"
   ]
  },
  {
   "cell_type": "code",
   "execution_count": 5,
   "id": "b2521d15",
   "metadata": {},
   "outputs": [],
   "source": [
    "def left(x):\n",
    "    i,j=findindex(x)\n",
    "    if j==0:\n",
    "        return False\n",
    "    return True\n",
    "\n",
    "def right(x):\n",
    "    i,j=findindex(x)\n",
    "    if j==2:\n",
    "        return False\n",
    "    return True\n",
    "\n",
    "def up(x):\n",
    "    i,j=findindex(x)\n",
    "    if i==0:\n",
    "        return False\n",
    "    return True\n",
    "\n",
    "def down(x):\n",
    "    i,j=findindex(x)\n",
    "    if i==2:\n",
    "        return False\n",
    "    return True"
   ]
  },
  {
   "cell_type": "code",
   "execution_count": 6,
   "id": "28bc30d9",
   "metadata": {},
   "outputs": [],
   "source": [
    "a=[[1,2,3],[2,'k',4],[4,5,6]]\n",
    "b=[[1,2,3],[2,3,4]]"
   ]
  },
  {
   "cell_type": "code",
   "execution_count": 7,
   "id": "2c80305c",
   "metadata": {},
   "outputs": [],
   "source": [
    "def printit(x):\n",
    "    for i in x:\n",
    "        print(\"-------------\")\n",
    "        print('|',i[0] ,\"|\" ,i[1] , \"|\" , i[2] ,\"|\")\n",
    " \n",
    "    print(\"-------------\")        "
   ]
  },
  {
   "cell_type": "code",
   "execution_count": 8,
   "id": "e6588f57",
   "metadata": {},
   "outputs": [
    {
     "name": "stdout",
     "output_type": "stream",
     "text": [
      "-------------\n",
      "| 1 | 2 | 3 |\n",
      "-------------\n",
      "| 2 | k | 4 |\n",
      "-------------\n",
      "| 4 | 5 | 6 |\n",
      "-------------\n"
     ]
    }
   ],
   "source": [
    "printit(a)"
   ]
  },
  {
   "cell_type": "code",
   "execution_count": 9,
   "id": "3efa12f0",
   "metadata": {},
   "outputs": [
    {
     "data": {
      "text/plain": [
       "False"
      ]
     },
     "execution_count": 9,
     "metadata": {},
     "output_type": "execute_result"
    }
   ],
   "source": [
    "a == b"
   ]
  },
  {
   "cell_type": "code",
   "execution_count": 10,
   "id": "3af88ff9",
   "metadata": {},
   "outputs": [],
   "source": [
    "def moveleft(x):\n",
    "    i,j=findindex(x)\n",
    "    t=x[i][j-1]\n",
    "    x[i][j-1]=x[i][j]\n",
    "    x[i][j]=t\n",
    "    return x\n",
    "def moveright(x):\n",
    "    i,j=findindex(x)\n",
    "    t=x[i][j+1]\n",
    "    x[i][j+1]=x[i][j]\n",
    "    x[i][j]=t\n",
    "    return x\n",
    "def moveup(x):\n",
    "    i,j=findindex(x)\n",
    "    t=x[i-1][j]\n",
    "    x[i-1][j]=x[i][j]\n",
    "    x[i][j]=t\n",
    "    return x\n",
    "def movedown(x):\n",
    "    i,j=findindex(x)\n",
    "    t=x[i+1][j]\n",
    "    x[i+1][j]=x[i][j]\n",
    "    x[i][j]=t\n",
    "    return x"
   ]
  },
  {
   "cell_type": "code",
   "execution_count": 13,
   "id": "e82b310b",
   "metadata": {},
   "outputs": [],
   "source": [
    "def Main():\n",
    "    takeinput()\n",
    "    #printit(inarr)\n",
    "    #printit(finalstate)\n",
    "    curr=inarr\n",
    "    while findhx(curr)!=0:\n",
    "        state=[]\n",
    "        if left(curr):\n",
    "            state.append(moveleft(curr))\n",
    "        if right(curr):\n",
    "            state.append(moveright(curr))\n",
    "        if up(curr):\n",
    "            state.append(moveup(curr))\n",
    "        if down(curr):\n",
    "            state.append(movedown(curr))\n",
    "        index=[]    \n",
    "        for i in range(len(state)):\n",
    "            if state[i] in seen:\n",
    "                index.append(state[i])\n",
    "        for i in index:\n",
    "            state.remove(i)\n",
    "        for i in state:\n",
    "            seen.append(i)\n",
    "        index=0\n",
    "        mn=100 \n",
    "        print(len(state))\n",
    "        for i in range(len(state)):\n",
    "            if  findhx(state[i])<mn:\n",
    "                mn=findhx(state[i])\n",
    "                index=i\n",
    "        print(index)        \n",
    "        curr=state[index]\n",
    "        printit(curr)\n",
    "            \n",
    "            \n",
    "        \n",
    "    "
   ]
  },
  {
   "cell_type": "code",
   "execution_count": 14,
   "id": "54d21368-b84e-4042-96b5-7fc3a88c367c",
   "metadata": {},
   "outputs": [
    {
     "name": "stdout",
     "output_type": "stream",
     "text": [
      "Enter Start state : \n",
      "Enter Row 1\n"
     ]
    },
    {
     "name": "stdin",
     "output_type": "stream",
     "text": [
      " 1 2 3\n"
     ]
    },
    {
     "name": "stdout",
     "output_type": "stream",
     "text": [
      "Enter Row 2\n"
     ]
    },
    {
     "name": "stdin",
     "output_type": "stream",
     "text": [
      " 5 4 6\n"
     ]
    },
    {
     "name": "stdout",
     "output_type": "stream",
     "text": [
      "Enter Row 3\n"
     ]
    },
    {
     "name": "stdin",
     "output_type": "stream",
     "text": [
      " 7 8 b\n"
     ]
    },
    {
     "name": "stdout",
     "output_type": "stream",
     "text": [
      "Enter Final state : \n",
      "Enter Row 1\n"
     ]
    },
    {
     "name": "stdin",
     "output_type": "stream",
     "text": [
      " 1 2 3\n"
     ]
    },
    {
     "name": "stdout",
     "output_type": "stream",
     "text": [
      "Enter Row 2\n"
     ]
    },
    {
     "name": "stdin",
     "output_type": "stream",
     "text": [
      " 8 b 4\n"
     ]
    },
    {
     "name": "stdout",
     "output_type": "stream",
     "text": [
      "Enter Row 3\n"
     ]
    },
    {
     "name": "stdin",
     "output_type": "stream",
     "text": [
      " 7 6 5\n"
     ]
    },
    {
     "name": "stdout",
     "output_type": "stream",
     "text": [
      "4\n",
      "0\n",
      "-------------\n",
      "| 1 | 2 | 3 |\n",
      "-------------\n",
      "| 5 | 4 | 6 |\n",
      "-------------\n",
      "| 7 | 8 | b |\n",
      "-------------\n",
      "0\n",
      "0\n"
     ]
    },
    {
     "ename": "IndexError",
     "evalue": "list index out of range",
     "output_type": "error",
     "traceback": [
      "\u001b[1;31m---------------------------------------------------------------------------\u001b[0m",
      "\u001b[1;31mIndexError\u001b[0m                                Traceback (most recent call last)",
      "Cell \u001b[1;32mIn[14], line 1\u001b[0m\n\u001b[1;32m----> 1\u001b[0m \u001b[43mMain\u001b[49m\u001b[43m(\u001b[49m\u001b[43m)\u001b[49m\n",
      "Cell \u001b[1;32mIn[13], line 32\u001b[0m, in \u001b[0;36mMain\u001b[1;34m()\u001b[0m\n\u001b[0;32m     30\u001b[0m         index\u001b[38;5;241m=\u001b[39mi\n\u001b[0;32m     31\u001b[0m \u001b[38;5;28mprint\u001b[39m(index)        \n\u001b[1;32m---> 32\u001b[0m curr\u001b[38;5;241m=\u001b[39m\u001b[43mstate\u001b[49m\u001b[43m[\u001b[49m\u001b[43mindex\u001b[49m\u001b[43m]\u001b[49m\n\u001b[0;32m     33\u001b[0m printit(curr)\n",
      "\u001b[1;31mIndexError\u001b[0m: list index out of range"
     ]
    }
   ],
   "source": [
    "Main()"
   ]
  },
  {
   "cell_type": "code",
   "execution_count": 21,
   "id": "963e00de-3c4c-4808-85d9-153377d1475c",
   "metadata": {},
   "outputs": [],
   "source": [
    "a=[1,2,2,3,4]\n"
   ]
  },
  {
   "cell_type": "code",
   "execution_count": 24,
   "id": "17c68428-c430-4826-bd32-c5db0fd2ef36",
   "metadata": {},
   "outputs": [],
   "source": [
    "a.remove(2)"
   ]
  },
  {
   "cell_type": "code",
   "execution_count": 23,
   "id": "17dfc091-b076-4bb0-ac38-6ac3fa5138ee",
   "metadata": {},
   "outputs": [
    {
     "data": {
      "text/plain": [
       "[1, 2, 2, 3, 4]"
      ]
     },
     "execution_count": 23,
     "metadata": {},
     "output_type": "execute_result"
    }
   ],
   "source": [
    "a"
   ]
  },
  {
   "cell_type": "code",
   "execution_count": null,
   "id": "b3803035-a3fe-44f6-b2d9-da8466e6d33e",
   "metadata": {},
   "outputs": [],
   "source": []
  }
 ],
 "metadata": {
  "kernelspec": {
   "display_name": "Python 3 (ipykernel)",
   "language": "python",
   "name": "python3"
  },
  "language_info": {
   "codemirror_mode": {
    "name": "ipython",
    "version": 3
   },
   "file_extension": ".py",
   "mimetype": "text/x-python",
   "name": "python",
   "nbconvert_exporter": "python",
   "pygments_lexer": "ipython3",
   "version": "3.10.9"
  }
 },
 "nbformat": 4,
 "nbformat_minor": 5
}
