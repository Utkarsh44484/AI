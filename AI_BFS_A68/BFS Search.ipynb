{
 "cells": [
  {
   "cell_type": "markdown",
   "id": "f68d3f2e",
   "metadata": {},
   "source": [
    "#### A-68 Utkarsh Sathawane"
   ]
  },
  {
   "cell_type": "code",
   "execution_count": 86,
   "id": "21533031",
   "metadata": {},
   "outputs": [],
   "source": [
    "#Adjacency List of given graph\n",
    "g=[[(3,2),(2,3),(6,5)],\n",
    "   [(3,1),(1,3),(2,6)],\n",
    "   [(2,1),(1,2),(4,3),(5,4)]\n",
    "   ,[(5,3),(3,3),(2,6)]\n",
    "   ,[(6,2),(4,3),(5,4)]\n",
    "   ,[(5,2),(1,5)]]\n",
    "\n",
    "g2=[[(2,3),(3,2),(6,5)],\n",
    "   [(1,3),(2,6),(3,1)],\n",
    "   [(1,2),(2,1),(4,3),(5,4)]\n",
    "   ,[(2,6),(3,3),(5,3)]\n",
    "   ,[(4,3),(5,4),(6,2)]\n",
    "   ,[(1,5),(5,2) ]]"
   ]
  },
  {
   "cell_type": "code",
   "execution_count": 87,
   "id": "2d44b1d2",
   "metadata": {},
   "outputs": [],
   "source": [
    "name=[\"Mumbai\",\"Bengaluru\",\"Hydrabad\",\"kolkata\",\"Lucknow\",\"New Delhi\"]"
   ]
  },
  {
   "cell_type": "code",
   "execution_count": 88,
   "id": "f6101ac1",
   "metadata": {},
   "outputs": [],
   "source": [
    "#This function will consider distance to print optimum path\n",
    "def BFS(q,visited):\n",
    "    while len(q)!=0:\n",
    "        curr=q[0]\n",
    "        city=curr[0]-1\n",
    "        visited[city]=1\n",
    "        #print(visited)\n",
    "        #Below line will print name of city\n",
    "        print(name[city])\n",
    "        if(city==1):\n",
    "            return\n",
    "        q.pop(0)\n",
    "        x=0\n",
    "        for i in g[city]:\n",
    "            if visited[i[0]-1]==0:\n",
    "                q.append(i)\n",
    "                x=1\n",
    "                visited[i[0]-1]=1\n",
    "            if x==1:\n",
    "                break\n",
    "#        for i in g[city]:\n",
    " #           if visited[i[0]-1]==0:\n",
    " #               q.append(i)\n",
    "  #              visited[i[0]-1]=1\n",
    "    \n",
    "    "
   ]
  },
  {
   "cell_type": "code",
   "execution_count": 89,
   "id": "b1483332",
   "metadata": {},
   "outputs": [],
   "source": [
    "#This function will consider alphabet to print optimum path\n",
    "def BFS_by_alphabets(q,visited):\n",
    "    while len(q)!=0:\n",
    "        curr=q[0]\n",
    "        city=curr[0]-1\n",
    "        visited[city]=1\n",
    "        #print(visited)\n",
    "        #Below line will print name of city\n",
    "        print(name[city])\n",
    "        if(city==1):\n",
    "            return\n",
    "        q.pop(0)\n",
    "        x=0\n",
    "        for i in g2[city]:\n",
    "            if visited[i[0]-1]==0:\n",
    "                q.append(i)\n",
    "                x=1\n",
    "                visited[i[0]-1]=1\n",
    "            if x==1:\n",
    "                break\n",
    "       # for i in g2[city]:\n",
    "        #    if visited[i[0]-1]==0:\n",
    "          #      q.append(i)\n",
    "         #       visited[i[0]-1]=1"
   ]
  },
  {
   "cell_type": "code",
   "execution_count": 90,
   "id": "8be5ac40",
   "metadata": {},
   "outputs": [
    {
     "name": "stdout",
     "output_type": "stream",
     "text": [
      "New Delhi\n",
      "Lucknow\n",
      "kolkata\n",
      "Hydrabad\n",
      "Bengaluru\n"
     ]
    }
   ],
   "source": [
    "q=[(6,0)]\n",
    "visited=[0,0,0,0,0,0]\n",
    "BFS(q,visited)"
   ]
  },
  {
   "cell_type": "code",
   "execution_count": 91,
   "id": "81985ecc",
   "metadata": {},
   "outputs": [
    {
     "name": "stdout",
     "output_type": "stream",
     "text": [
      "New Delhi\n",
      "Mumbai\n",
      "Bengaluru\n"
     ]
    }
   ],
   "source": [
    "q=[(6,0)]\n",
    "visited=[0,0,0,0,0,0]\n",
    "BFS_by_alphabets(q,visited)"
   ]
  },
  {
   "cell_type": "code",
   "execution_count": null,
   "id": "e67816d6",
   "metadata": {},
   "outputs": [],
   "source": []
  }
 ],
 "metadata": {
  "kernelspec": {
   "display_name": "Python 3 (ipykernel)",
   "language": "python",
   "name": "python3"
  },
  "language_info": {
   "codemirror_mode": {
    "name": "ipython",
    "version": 3
   },
   "file_extension": ".py",
   "mimetype": "text/x-python",
   "name": "python",
   "nbconvert_exporter": "python",
   "pygments_lexer": "ipython3",
   "version": "3.9.13"
  }
 },
 "nbformat": 4,
 "nbformat_minor": 5
}
